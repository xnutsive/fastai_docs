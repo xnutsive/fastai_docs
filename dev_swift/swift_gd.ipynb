{
 "cells": [
  {
   "cell_type": "code",
   "execution_count": 1,
   "metadata": {},
   "outputs": [
    {
     "name": "stdout",
     "output_type": "stream",
     "text": [
      "Installing packages:\n",
      "\t.package(url: \"https://github.com/twostraws/SwiftGD.git\", from: \"2.0.0\")\n",
      "\t\tSwiftGD\n",
      "Fetching https://github.com/twostraws/SwiftGD.git\n",
      "Fetching https://github.com/twostraws/Cgd.git\n",
      "Completed resolution in 1.97s\n",
      "Cloning https://github.com/twostraws/Cgd.git\n",
      "Resolving https://github.com/twostraws/Cgd.git at 0.2.0\n",
      "Cloning https://github.com/twostraws/SwiftGD.git\n",
      "Resolving https://github.com/twostraws/SwiftGD.git at 2.2.0\n",
      "Compile Swift Module 'SwiftGD' (5 sources)\n",
      "Compile Swift Module 'jupyterInstalledPackages' (1 sources)\n",
      "Linking ./.build/x86_64-unknown-linux/debug/libjupyterInstalledPackages.so\n",
      "Installation complete!"
     ]
    }
   ],
   "source": [
    "%install '.package(url: \"https://github.com/twostraws/SwiftGD.git\", from: \"2.0.0\")' SwiftGD"
   ]
  },
  {
   "cell_type": "code",
   "execution_count": 2,
   "metadata": {},
   "outputs": [],
   "source": [
    "import Foundation"
   ]
  },
  {
   "cell_type": "code",
   "execution_count": null,
   "metadata": {},
   "outputs": [
    {
     "ename": "",
     "evalue": "",
     "output_type": "error",
     "traceback": [
      "Kernel is in a bad state. Try restarting the kernel.",
      "",
      "Exception in `_execute_cell`:",
      "Error setting parent message: SwiftError(result=<lldb.SBValue; proxy of <Swig Object of type 'lldb::SBValue *' at 0x7fea695e5780> >, description='error: <Cell 4>:2:13: error: use of unresolved identifier \\'JupyterKernel\\'\\n            JupyterKernel.communicator.updateParentMessage(\\n            ^~~~~~~~~~~~~\\n\\nerror: <Cell 4>:3:21: error: use of unresolved identifier \\'KernelCommunicator\\'\\n                to: KernelCommunicator.ParentMessage(json: \"{\\\\\"header\\\\\": {\\\\\"msg_id\\\\\": \\\\\"ddd3f8afb53041d3843cfc80420d9919\\\\\", \\\\\"username\\\\\": \\\\\"username\\\\\", \\\\\"session\\\\\": \\\\\"7e7555a45a6b44cda67eee4ce253bf5a\\\\\", \\\\\"msg_type\\\\\": \\\\\"execute_request\\\\\", \\\\\"version\\\\\": \\\\\"5.2\\\\\", \\\\\"date\\\\\": \\\\\"2019-03-24T16:19:52.128552+00:00\\\\\"}, \\\\\"msg_id\\\\\": \\\\\"ddd3f8afb53041d3843cfc80420d9919\\\\\", \\\\\"msg_type\\\\\": \\\\\"execute_request\\\\\", \\\\\"parent_header\\\\\": {}, \\\\\"metadata\\\\\": {}, \\\\\"content\\\\\": {\\\\\"code\\\\\": \\\\\"import SwiftGD\\\\\", \\\\\"silent\\\\\": false, \\\\\"store_history\\\\\": true, \\\\\"user_expressions\\\\\": {}, \\\\\"allow_stdin\\\\\": true, \\\\\"stop_on_error\\\\\": true}, \\\\\"buffers\\\\\": []}\"))\\n                    ^~~~~~~~~~~~~~~~~~\\n\\n')"
     ]
    }
   ],
   "source": [
    "import SwiftGD"
   ]
  },
  {
   "cell_type": "code",
   "execution_count": null,
   "metadata": {},
   "outputs": [],
   "source": []
  }
 ],
 "metadata": {
  "kernelspec": {
   "display_name": "Swift",
   "language": "swift",
   "name": "swift"
  },
  "language_info": {
   "file_extension": ".swift",
   "mimetype": "text/x-swift",
   "name": "swift",
   "version": ""
  }
 },
 "nbformat": 4,
 "nbformat_minor": 2
}
